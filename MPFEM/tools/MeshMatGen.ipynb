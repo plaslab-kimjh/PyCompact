{
 "cells": [
  {
   "cell_type": "markdown",
   "id": "f2d3db32",
   "metadata": {},
   "source": [
    "**Cfile Maker: Defining (Mesh, Surface,...)**"
   ]
  },
  {
   "cell_type": "code",
   "execution_count": 1,
   "id": "4c276429-51ba-4a9f-8da8-4c63fda7fb8d",
   "metadata": {},
   "outputs": [
    {
     "name": "stdout",
     "output_type": "stream",
     "text": [
      "Cfile generated successfully: Mesh_file.cfile\n"
     ]
    }
   ],
   "source": [
    "# --- Imports ---\n",
    "import pandas as pd\n",
    "from pathlib import Path\n",
    "\n",
    "# --- Inputs ---\n",
    "file_path = 'position.csv'   # Update this with the actual file path\n",
    "data = pd.read_csv(file_path)\n",
    "\n",
    "# --- Mesh generation parameters ---\n",
    "unit_scale = 10.0      # multiply cm values by this to get mm (10 for cm→mm)\n",
    "mesh_dens = 6          # mesh density \n",
    "num_elems = 1513        # base number of elements per part \n",
    "num_nodes = 1652        # base number of nodes per part \n",
    "edge_size_l = 6         # adjust it to refine the tet meth (as it lager the mesh is finer)\n",
    "edge_size_s = 3         # adjust it to refine the tet meth (as it lager the mesh is coarser)\n",
    "\n",
    "# --- Function to create the .cfile---\n",
    "def generate_cfile(data, output_file):\n",
    "    with open(output_file, 'w') as f:\n",
    "        # Write header\n",
    "        f.write(\"$# LS-PrePost command file generated automatically\\n\")\n",
    "        f.write(\"cemptymodel\\n\")\n",
    "        f.write(\"genselect target node\\n\")\n",
    "        f.write(\"genselect clear\\n\")\n",
    "        \n",
    "        # Loop through each row of the CSV file to create spheres\n",
    "        for i, row in data.iterrows():\n",
    "            # Convert cm → mm\n",
    "            x = float(row[\"Points:0\"]) * unit_scale\n",
    "            y = float(row[\"Points:1\"]) * unit_scale\n",
    "            z = float(row[\"Points:2\"]) * unit_scale\n",
    "            radius = float(row[\"radius\"]) * unit_scale\n",
    "            # Part numbering starts at 1\n",
    "            part_number = i + 1\n",
    "            \n",
    "            # Create sphere with\n",
    "            f.write(f\"meshing spheresolid create {x:.6f} {y:.6f} {z:.6f} {radius:.3f} {mesh_dens} 1 0 0 0 1 0\\n\")\n",
    "            f.write(\"ac\\n\")\n",
    "            # Accept mesh for the sphere with appropriate node ID ranges\n",
    "            f.write(f\"meshing spheresolid accept {part_number} {num_elems * part_number} {num_nodes * part_number} P{part_number}\\n\")\n",
    "            f.write(\"ac\\n\")\n",
    "        \n",
    "        # Loop again to create the meshing commands for each part using the provided tetrahedral meshing commands\n",
    "        for i, row in data.iterrows():\n",
    "            part_number = i + 1  # Part number starts from 1\n",
    "            radii = radius\n",
    "            \n",
    "            min_edge_size = radii / edge_size_l      # The minimum edge size for a tet mesh\n",
    "            max_edge_size = radii / edge_size_s      # The maximum edge size for a tet mesh\n",
    "\n",
    "            # Tetrahedral meshing commands using the provided code\n",
    "            skin_command = f\"tetmesh skin {part_number} 0 0 0\\n\"\n",
    "            remesh_command = f\"tetmesh remesh {min_edge_size} {max_edge_size} 1\\n\"\n",
    "            mesh_command = \"tetmesh mesh 0\\n\"\n",
    "            accept_mesh_command = f\"tetmesh accept {part_number + 10000} 0\\n\"\n",
    "            xform_command = f\"-M X{part_number}\\n\"\n",
    "\n",
    "            # Write these commands to the file\n",
    "            f.write(skin_command)\n",
    "            f.write(remesh_command)\n",
    "            f.write(mesh_command)\n",
    "            f.write(accept_mesh_command)\n",
    "            f.write(xform_command)\n",
    "\n",
    "        # Additional segment and solid commands for each part\n",
    "        for i in range(1, len(data) + 1):\n",
    "            # Segment selection and set creation for each part\n",
    "            f.write(\"genselect target part\\n\")\n",
    "            f.write(\"setsegment\\n\")\n",
    "            f.write(\"genselect target segment\\n\")\n",
    "            f.write(\"genselect clear\\n\")\n",
    "            f.write(\"genselect clear\\n\")\n",
    "            f.write(f\"genselect element add part {10000 + i}/0\\n\")\n",
    "            f.write(f\"setsegment createset {i} 1 0 0 0 0 \\\"Surf_P{i}\\\"\\n\")\n",
    "            f.write(\"genselect clear\\n\")\n",
    "            f.write(\"setsegment\\n\")\n",
    "            f.write(\"genselect target segment\\n\")\n",
    "            f.write(\"genselect clear\\n\")\n",
    "            f.write(\"genselect clear\\n\")\n",
    "            f.write(\"selectentity All\\n\")\n",
    "            f.write(\"selectentity None\\n\")\n",
    "        \n",
    "        # Solid selection and set creation for each part\n",
    "        for i in range(1, len(data) + 1):\n",
    "            f.write(\"setsolid\\n\")\n",
    "            f.write(\"genselect target solid\\n\")\n",
    "            f.write(\"genselect clear\\n\")\n",
    "            f.write(\"genselect solid add part {}/0\\n\".format(10000 + i))\n",
    "            f.write(\"setsolid createset {} 0 \\\"s{}\\\"\\n\".format(i, i))\n",
    "            f.write(\"genselect clear\\n\")\n",
    "\n",
    "\n",
    "\n",
    "    print(f\"Cfile generated successfully: {output_file}\")\n",
    "\n",
    "# Example usage: Call the function with your CSV data and desired output file name\n",
    "generate_cfile(data, \"Mesh_file.cfile\")\n"
   ]
  },
  {
   "cell_type": "markdown",
   "id": "7250469d-394b-44e4-84ac-a7c5229b1881",
   "metadata": {},
   "source": [
    "**Material Assignment**"
   ]
  },
  {
   "cell_type": "code",
   "execution_count": 2,
   "id": "08bccedb-1b09-4126-8cdb-b0ae04a22be5",
   "metadata": {},
   "outputs": [
    {
     "name": "stdout",
     "output_type": "stream",
     "text": [
      "The material assigment file has been generated in 'material.k'.\n"
     ]
    }
   ],
   "source": [
    "def material_assigment_content(total_particles, output_file_path):\n",
    "    content = \"\"\n",
    "    for i in range(1, total_particles + 1):\n",
    "        pid = i\n",
    "        secid = i\n",
    "        mid = 1\n",
    "        content += f\"*PART\\n\"\n",
    "        content += f\"*SECTION_SOLID_TITLE\\n\"\n",
    "        content += f\"P{i}-section\\n\"\n",
    "        content += f\"$#   secid    elform       aet    unused    unused    unused    cohoff   gaskeit\\n\"\n",
    "        content += f\"{secid:10d}{1:10d}{0:10d}{0:10d}{0:10d}{0:10d}{0.0:10.1f}{0.0:10.1f}\\n\"\n",
    "        content += f\"*PART\\n\"\n",
    "        content += f\"$#                                                                         title\\n\"\n",
    "        content += f\"New part from tetrahedron mesher\\n\"\n",
    "        content += f\"$#     pid     secid       mid     eosid      hgid      grav    adpopt      tmid\\n\"\n",
    "        content += f\"{10000 + pid:10d}{secid:10d}{mid:10d}{0:10d}{0:10d}{0:10d}{0:10d}{0:10d}\\n\"\n",
    "    \n",
    "    # Write to the output file\n",
    "    with open(output_file_path, \"w\") as file:\n",
    "        file.write(content)\n",
    "\n",
    "# Define the number of particles and output file path\n",
    "total_particles = 403                   # Write your total number of particle\n",
    "output_file_path = \"material.k\"         # Update this with the actual file path\n",
    "\n",
    "# Generate the corrected .k file\n",
    "material_assigment_content(total_particles, output_file_path)\n",
    "\n",
    "print(f\"The material assigment file has been generated in '{output_file_path}'.\")\n"
   ]
  },
  {
   "cell_type": "code",
   "execution_count": null,
   "id": "d3515308-c275-41f5-9581-8b25f792c841",
   "metadata": {},
   "outputs": [],
   "source": []
  }
 ],
 "metadata": {
  "kernelspec": {
   "display_name": "Python 3 (ipykernel)",
   "language": "python",
   "name": "python3"
  },
  "language_info": {
   "codemirror_mode": {
    "name": "ipython",
    "version": 3
   },
   "file_extension": ".py",
   "mimetype": "text/x-python",
   "name": "python",
   "nbconvert_exporter": "python",
   "pygments_lexer": "ipython3",
   "version": "3.11.9"
  }
 },
 "nbformat": 4,
 "nbformat_minor": 5
}
